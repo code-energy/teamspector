{
 "cells": [
  {
   "cell_type": "markdown",
   "metadata": {},
   "source": [
    "# Experiment's Exploratory Data Analisys\n",
    "\n",
    "Explores the results of the experiments."
   ]
  },
  {
   "cell_type": "code",
   "execution_count": 1,
   "metadata": {},
   "outputs": [
    {
     "data": {
      "text/plain": [
       "ypct                                 1.000000\n",
       "ego_previous_votes_maximum           0.744202\n",
       "ego_previous_votes_median            0.742569\n",
       "ego_previous_votes_mean              0.739110\n",
       "team_previous_votes                  0.723377\n",
       "ego_previous_votes_minimum           0.595992\n",
       "ego_previous_rating_std_dev          0.538119\n",
       "team_closeness                       0.363530\n",
       "ego_closeness_minimum                0.352576\n",
       "ego_closeness_maximum                0.342444\n",
       "team_size                            0.338990\n",
       "ego_closeness_mean                   0.336290\n",
       "pair_shared_collaborators_maximum    0.326189\n",
       "pair_shared_collaborators_mean       0.319504\n",
       "ego_closeness_median                 0.314554\n",
       "Name: ypct, dtype: float64"
      ]
     },
     "execution_count": 1,
     "metadata": {},
     "output_type": "execute_result"
    }
   ],
   "source": [
    "% matplotlib inline\n",
    "import pandas as pd\n",
    "from pymongo import MongoClient\n",
    "\n",
    "db = MongoClient().imdbws\n",
    "df = pd.DataFrame(list(db.exp_0.find())).set_index('_id')\n",
    "df = df.drop(['title', 'ypct_rating', 'ypct_votes'], axis=1)\n",
    "\n",
    "c = df[df.columns.drop(labels=['top100', 'year'])].corr(method='spearman')['ypct']\n",
    "order = c.abs().sort_values(ascending = False).index\n",
    "c[order].head(15)"
   ]
  }
 ],
 "metadata": {
  "kernelspec": {
   "display_name": "teamspector",
   "language": "python",
   "name": "teamspector"
  },
  "language_info": {
   "codemirror_mode": {
    "name": "ipython",
    "version": 3
   },
   "file_extension": ".py",
   "mimetype": "text/x-python",
   "name": "python",
   "nbconvert_exporter": "python",
   "pygments_lexer": "ipython3",
   "version": "3.6.8"
  }
 },
 "nbformat": 4,
 "nbformat_minor": 2
}
